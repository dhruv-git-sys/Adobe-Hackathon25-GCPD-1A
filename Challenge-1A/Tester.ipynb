{
 "cells": [
  {
   "cell_type": "code",
   "execution_count": 19,
   "id": "c2f6114a-d39a-4ae1-a0ce-e6a4d0123ce5",
   "metadata": {},
   "outputs": [],
   "source": [
    "%reset -f\n",
    "from time import time\n",
    "from pprint import pprint\n",
    "from json import dumps\n",
    "from sys import exit"
   ]
  },
  {
   "cell_type": "code",
   "execution_count": 20,
   "id": "bb456f24-d6eb-42cc-99fb-cd54ce9b3e7a",
   "metadata": {},
   "outputs": [
    {
     "name": "stdout",
     "output_type": "stream",
     "text": [
      "✅ Modules imported.\n"
     ]
    }
   ],
   "source": [
    "for attempt in range(2):\n",
    "    try:\n",
    "        from ankit_code1 import main as m1\n",
    "        from ankit_code2 import main as m2\n",
    "        from ankit_code3 import main as m3\n",
    "        from arnav_code2 import main as m4\n",
    "        from arnav_pmp4llm_implemented import main as m5\n",
    "        print(\"✅ Modules imported.\")\n",
    "        break \n",
    "    except ImportError:\n",
    "        if attempt == 0:\n",
    "            print(\"⚠️ Installing dependencies...\")\n",
    "            !pip install -q PyMuPDF pymupdf4llm\n",
    "        else:\n",
    "            print(\"❌ Critical Error: Could not import required modules.\")\n",
    "            exit(1)\n"
   ]
  },
  {
   "cell_type": "code",
   "execution_count": 21,
   "id": "3676599b-557a-42d1-8f10-1c005abce621",
   "metadata": {},
   "outputs": [],
   "source": [
    "pdf_file = \"Research.pdf\" # Your File/Path here"
   ]
  },
  {
   "cell_type": "code",
   "execution_count": 22,
   "id": "d3877254-33e9-4b4b-9d11-8afc1c6802c8",
   "metadata": {},
   "outputs": [],
   "source": [
    "def print_inspect(mFunc):\n",
    "    t=time()\n",
    "    print(dumps(mFunc(pdf_file)))\n",
    "    print(f\"\\nTime = {time()-t}\")"
   ]
  },
  {
   "cell_type": "code",
   "execution_count": 23,
   "id": "d3f5cbd6-27bc-438f-af33-b6cee8a05191",
   "metadata": {},
   "outputs": [
    {
     "name": "stdout",
     "output_type": "stream",
     "text": [
      "  ✅ Strategy: Built-in ToC\n",
      "{\"title\": \"Offline PDF Tooling Survey\", \"outline\": [{\"level\": \"H1\", \"text\": \"A Strategic Analysis of Offline PDF Libraries for Custom Toolchain Development \", \"page\": 1}, {\"level\": \"H2\", \"text\": \"Executive Summary \", \"page\": 1}, {\"level\": \"H2\", \"text\": \"Introduction: Architecting an Offline PDF Engine \", \"page\": 3}, {\"level\": \"H3\", \"text\": \"Defining the Landscape: Offline SDKs vs. Cloud APIs \", \"page\": 3}, {\"level\": \"H3\", \"text\": \"Core Attributes of a Low-Level PDF Library \", \"page\": 4}, {\"level\": \"H2\", \"text\": \"The Commercial Titans: A Deep Dive into Proprietary SDKs \", \"page\": 5}, {\"level\": \"H3\", \"text\": \"Adobe PDF Library (PDFL): The Reference Implementation \", \"page\": 5}, {\"level\": \"H3\", \"text\": \"Apryse SDK (formerly PDFTron): The Feature-Rich Contender \", \"page\": 7}, {\"level\": \"H3\", \"text\": \"Foxit PDF SDK: The Performance-Oriented Alternative \", \"page\": 8}, {\"level\": \"H2\", \"text\": \"The Open-Source Powerhouses: Flexibility and Control \", \"page\": 10}, {\"level\": \"H3\", \"text\": \"MuPDF: The Speed and Efficiency Champion \", \"page\": 10}, {\"level\": \"H3\", \"text\": \"Poppler: The Linux Standard \", \"page\": 11}, {\"level\": \"H3\", \"text\": \"Apache PDFBox: The Java Workhorse \", \"page\": 13}, {\"level\": \"H2\", \"text\": \"Head-to-Head: Comparative Analysis and Benchmarks \", \"page\": 14}, {\"level\": \"H3\", \"text\": \"Master Feature Comparison Matrix \", \"page\": 14}, {\"level\": \"H3\", \"text\": \"Performance Benchmark Analysis \", \"page\": 17}, {\"level\": \"H3\", \"text\": \"Low-Level API Access Comparison \", \"page\": 18}, {\"level\": \"H2\", \"text\": \"Final Rankings and Strategic Recommendations \", \"page\": 21}, {\"level\": \"H3\", \"text\": \"Ranked Recommendations by Strategic Priority \", \"page\": 21}, {\"level\": \"H4\", \"text\": \"For Uncompromising Adobe Compatibility and Features (Cost is not a primary constraint) \", \"page\": 21}, {\"level\": \"H4\", \"text\": \"For Maximum Performance (Willing to consider commercial licenses) \", \"page\": 22}, {\"level\": \"H4\", \"text\": \"For Permissive Open-Source Integration (Primarily for Java-based projects) \", \"page\": 22}, {\"level\": \"H4\", \"text\": \"For Open-Source Integration (For C/C++ projects, with license considerations) \", \"page\": 23}, {\"level\": \"H3\", \"text\": \"A Decision Framework for Your Toolchain \", \"page\": 23}, {\"level\": \"H4\", \"text\": \"Works cited \", \"page\": 24}]}\n",
      "\n",
      "Time = 0.01069331169128418\n"
     ]
    }
   ],
   "source": [
    "print_inspect(m1)"
   ]
  },
  {
   "cell_type": "code",
   "execution_count": 24,
   "id": "997feae6-0a45-4246-854e-aa6f5edaaca5",
   "metadata": {},
   "outputs": [
    {
     "name": "stdout",
     "output_type": "stream",
     "text": [
      "{\"title\": \"Offline PDF Tooling Survey\", \"outline\": [{\"level\": \"H1\", \"text\": \"A Strategic Analysis of Offline PDF Libraries for Custom Toolchain Development\", \"page\": 1}, {\"level\": \"H2\", \"text\": \"Executive Summary\", \"page\": 1}, {\"level\": \"H2\", \"text\": \"Introduction: Architecting an Offline PDF Engine\", \"page\": 3}, {\"level\": \"H3\", \"text\": \"Defining the Landscape: Offline SDKs vs. Cloud APIs\", \"page\": 3}, {\"level\": \"H3\", \"text\": \"Core Attributes of a Low-Level PDF Library\", \"page\": 4}, {\"level\": \"H2\", \"text\": \"The Commercial Titans: A Deep Dive into Proprietary SDKs\", \"page\": 5}, {\"level\": \"H3\", \"text\": \"Adobe PDF Library (PDFL): The Reference Implementation\", \"page\": 5}, {\"level\": \"H3\", \"text\": \"Apryse SDK (formerly PDFTron): The Feature-Rich Contender\", \"page\": 7}, {\"level\": \"H3\", \"text\": \"Foxit PDF SDK: The Performance-Oriented Alternative\", \"page\": 8}, {\"level\": \"H2\", \"text\": \"The Open-Source Powerhouses: Flexibility and Control\", \"page\": 10}, {\"level\": \"H3\", \"text\": \"MuPDF: The Speed and Efficiency Champion\", \"page\": 10}, {\"level\": \"H3\", \"text\": \"Poppler: The Linux Standard\", \"page\": 11}, {\"level\": \"H3\", \"text\": \"Apache PDFBox: The Java Workhorse\", \"page\": 13}, {\"level\": \"H2\", \"text\": \"Head-to-Head: Comparative Analysis and Benchmarks\", \"page\": 14}, {\"level\": \"H3\", \"text\": \"Master Feature Comparison Matrix\", \"page\": 14}, {\"level\": \"H3\", \"text\": \"Performance Benchmark Analysis\", \"page\": 17}, {\"level\": \"H3\", \"text\": \"Low-Level API Access Comparison\", \"page\": 18}, {\"level\": \"H2\", \"text\": \"Final Rankings and Strategic Recommendations\", \"page\": 21}, {\"level\": \"H3\", \"text\": \"Ranked Recommendations by Strategic Priority\", \"page\": 21}, {\"level\": \"H4\", \"text\": \"For Uncompromising Adobe Compatibility and Features (Cost is not a primary constraint)\", \"page\": 21}, {\"level\": \"H4\", \"text\": \"For Maximum Performance (Willing to consider commercial licenses)\", \"page\": 22}, {\"level\": \"H4\", \"text\": \"For Permissive Open-Source Integration (Primarily for Java-based projects)\", \"page\": 22}, {\"level\": \"H4\", \"text\": \"For Open-Source Integration (For C/C++ projects, with license considerations)\", \"page\": 23}, {\"level\": \"H3\", \"text\": \"A Decision Framework for Your Toolchain\", \"page\": 23}, {\"level\": \"H4\", \"text\": \"Works cited\", \"page\": 24}]}\n",
      "\n",
      "Time = 0.02826547622680664\n"
     ]
    }
   ],
   "source": [
    "print_inspect(m2)"
   ]
  },
  {
   "cell_type": "code",
   "execution_count": 25,
   "id": "3070789d-8aa4-43e1-b93c-2b9237f260c4",
   "metadata": {},
   "outputs": [
    {
     "name": "stdout",
     "output_type": "stream",
     "text": [
      "{\"title\": \"Offline PDF Tooling Survey\\n\", \"outline\": [{\"level\": \"H1\", \"text\": \"A Strategic Analysis of Offline PDF Libraries for Custom Toolchain Development \", \"page\": 1}, {\"level\": \"H2\", \"text\": \"Executive Summary \", \"page\": 1}, {\"level\": \"H2\", \"text\": \"Introduction: Architecting an Offline PDF Engine \", \"page\": 3}, {\"level\": \"H3\", \"text\": \"Defining the Landscape: Offline SDKs vs. Cloud APIs \", \"page\": 3}, {\"level\": \"H3\", \"text\": \"Core Attributes of a Low-Level PDF Library \", \"page\": 4}, {\"level\": \"H2\", \"text\": \"The Commercial Titans: A Deep Dive into Proprietary SDKs \", \"page\": 5}, {\"level\": \"H3\", \"text\": \"Adobe PDF Library (PDFL): The Reference Implementation \", \"page\": 5}, {\"level\": \"H3\", \"text\": \"Apryse SDK (formerly PDFTron): The Feature-Rich Contender \", \"page\": 7}, {\"level\": \"H3\", \"text\": \"Foxit PDF SDK: The Performance-Oriented Alternative \", \"page\": 8}, {\"level\": \"H2\", \"text\": \"The Open-Source Powerhouses: Flexibility and Control \", \"page\": 10}, {\"level\": \"H3\", \"text\": \"MuPDF: The Speed and Efficiency Champion \", \"page\": 10}, {\"level\": \"H3\", \"text\": \"Poppler: The Linux Standard \", \"page\": 11}, {\"level\": \"H3\", \"text\": \"Apache PDFBox: The Java Workhorse \", \"page\": 13}, {\"level\": \"H2\", \"text\": \"Head-to-Head: Comparative Analysis and Benchmarks \", \"page\": 14}, {\"level\": \"H3\", \"text\": \"Master Feature Comparison Matrix \", \"page\": 14}, {\"level\": \"H3\", \"text\": \"Performance Benchmark Analysis \", \"page\": 17}, {\"level\": \"H3\", \"text\": \"Low-Level API Access Comparison \", \"page\": 18}, {\"level\": \"H2\", \"text\": \"Final Rankings and Strategic Recommendations \", \"page\": 21}, {\"level\": \"H3\", \"text\": \"Ranked Recommendations by Strategic Priority \", \"page\": 21}, {\"level\": \"H4\", \"text\": \"For Uncompromising Adobe Compatibility and Features (Cost is not a primary constraint) \", \"page\": 21}, {\"level\": \"H4\", \"text\": \"For Maximum Performance (Willing to consider commercial licenses) \", \"page\": 22}, {\"level\": \"H4\", \"text\": \"For Permissive Open-Source Integration (Primarily for Java-based projects) \", \"page\": 22}, {\"level\": \"H4\", \"text\": \"For Open-Source Integration (For C/C++ projects, with license considerations) \", \"page\": 23}, {\"level\": \"H3\", \"text\": \"A Decision Framework for Your Toolchain \", \"page\": 23}, {\"level\": \"H4\", \"text\": \"Works cited \", \"page\": 24}]}\n",
      "\n",
      "Time = 0.008101701736450195\n"
     ]
    }
   ],
   "source": [
    "print_inspect(m3)"
   ]
  },
  {
   "cell_type": "code",
   "execution_count": 26,
   "id": "5c8d2af7-2f4b-4009-b261-1bca83f8735d",
   "metadata": {},
   "outputs": [
    {
     "name": "stdout",
     "output_type": "stream",
     "text": [
      "{\"title\": \"A Strategic Analysis of Offline PDF Libraries for Custom Toolchain Development Executive Summary  \", \"outline\": [{\"level\": \"H1\", \"text\": \"A Strategic Analysis of Offline PDF Libraries for Custom \", \"page\": 0}, {\"level\": \"H1\", \"text\": \"Toolchain Development \", \"page\": 0}, {\"level\": \"H1\", \"text\": \"Executive Summary \", \"page\": 0}, {\"level\": \"H1\", \"text\": \"Introduction: Architecting an Offline PDF Engine \", \"page\": 2}, {\"level\": \"H2\", \"text\": \"Defining the Landscape: Offline SDKs vs. Cloud APIs \", \"page\": 2}, {\"level\": \"H2\", \"text\": \"PDF Services API  is a collection of cloud-based REST APIs designed to perform \", \"page\": 2}, {\"level\": \"H2\", \"text\": \"SDK . It is marketed and licensed separately from the cloud APIs, distributed through \", \"page\": 2}, {\"level\": \"H2\", \"text\": \"Core Attributes of a Low-Level PDF Library \", \"page\": 3}, {\"level\": \"H1\", \"text\": \"The Commercial Titans: A Deep Dive into Proprietary SDKs \", \"page\": 4}, {\"level\": \"H2\", \"text\": \"Adobe PDF Library (PDFL): The Reference Implementation \", \"page\": 4}, {\"level\": \"H2\", \"text\": \"COS_Layer  is paramount. This layer provides direct, granular access to the low-level \", \"page\": 5}, {\"level\": \"H2\", \"text\": \"PDFEdit_Layer  and  PD_Layer  (PDModel) offer higher-level abstractions for \", \"page\": 5}, {\"level\": \"H2\", \"text\": \"Apryse SDK (formerly PDFTron): The Feature-Rich Contender \", \"page\": 6}, {\"level\": \"H2\", \"text\": \"WebViewer component, Apryse provides detailed documentation and sample projects \", \"page\": 6}, {\"level\": \"H2\", \"text\": \"Foxit PDF SDK: The Performance-Oriented Alternative \", \"page\": 7}, {\"level\": \"H1\", \"text\": \"The Open-Source Powerhouses: Flexibility and Control \", \"page\": 9}, {\"level\": \"H2\", \"text\": \"MuPDF: The Speed and Efficiency Champion \", \"page\": 9}, {\"level\": \"H2\", \"text\": \"Poppler: The Linux Standard \", \"page\": 10}, {\"level\": \"H2\", \"text\": \"Apache PDFBox: The Java Workhorse \", \"page\": 12}, {\"level\": \"H1\", \"text\": \"Head-to-Head: Comparative Analysis and Benchmarks \", \"page\": 13}, {\"level\": \"H2\", \"text\": \"essential for making an informed decision. This section synthesizes the available data \", \"page\": 13}, {\"level\": \"H2\", \"text\": \"Master Feature Comparison Matrix \", \"page\": 13}, {\"level\": \"H2\", \"text\": \"The following matrix provides a consolidated overview of the core capabilities of each \", \"page\": 13}, {\"level\": \"H2\", \"text\": \"Performance Benchmark Analysis \", \"page\": 16}, {\"level\": \"H2\", \"text\": \"The most definitive conclusion from the available data is that libraries written in native code \", \"page\": 16}, {\"level\": \"H2\", \"text\": \"Low-Level API Access Comparison \", \"page\": 17}, {\"level\": \"H1\", \"text\": \"Final Rankings and Strategic Recommendations \", \"page\": 20}, {\"level\": \"H2\", \"text\": \"Ranked Recommendations by Strategic Priority \", \"page\": 20}, {\"level\": \"H2\", \"text\": \"For Uncompromising Adobe Compatibility and Features (Cost is not a primary \", \"page\": 20}, {\"level\": \"H2\", \"text\": \"For Maximum Performance (Willing to consider commercial licenses) \", \"page\": 21}, {\"level\": \"H2\", \"text\": \"For Permissive Open-Source Integration (Primarily for Java-based projects) \", \"page\": 21}, {\"level\": \"H2\", \"text\": \"For Open-Source Integration (For C/C++ projects, with license considerations) \", \"page\": 22}, {\"level\": \"H2\", \"text\": \"A Decision Framework for Your Toolchain \", \"page\": 22}, {\"level\": \"H2\", \"text\": \"Step 1: Define Your Licensing and Budgetary Stance. \", \"page\": 22}, {\"level\": \"H2\", \"text\": \"\\u25cf\\u200b  Question:  What is your budget for this component? \", \"page\": 23}, {\"level\": \"H2\", \"text\": \"Step 2: Define Your Performance Requirements. \", \"page\": 23}, {\"level\": \"H2\", \"text\": \"Step 3: Define Your Need for Low-Level Control vs. API Stability. \", \"page\": 23}, {\"level\": \"H2\", \"text\": \"PDFBox . \", \"page\": 23}, {\"level\": \"H2\", \"text\": \"Works cited \", \"page\": 23}, {\"level\": \"H2\", \"text\": \"2025,  https://www.datalogics.com/understanding-sdk-pricing \", \"page\": 24}, {\"level\": \"H2\", \"text\": \"5.\\u200b  PDFL Overview - Adobe Open Source, accessed July 17, 2025, \", \"page\": 24}, {\"level\": \"H2\", \"text\": \"6.\\u200b  Poppler (software) - Wikipedia, accessed July 17, 2025, \", \"page\": 24}, {\"level\": \"H2\", \"text\": \"16.\\u200b PDFTron SDK API documentation, accessed July 17, 2025, \", \"page\": 24}, {\"level\": \"H2\", \"text\": \"17, 2025,  https://sdk.apryse.com/api/web/8.1/Core.html \", \"page\": 24}, {\"level\": \"H2\", \"text\": \"27.\\u200b Foxit PDF SDK, accessed July 17, 2025, \", \"page\": 25}, {\"level\": \"H2\", \"text\": \"34.\\u200b Foxit Resource Hub, accessed July 17, 2025, \", \"page\": 25}, {\"level\": \"H2\", \"text\": \"35.\\u200b Foxit PDF SDK (dotnet), accessed July 17, 2025, \", \"page\": 25}, {\"level\": \"H2\", \"text\": \"2025,  https://mupdf.com/ \", \"page\": 26}, {\"level\": \"H2\", \"text\": \"46.\\u200b ArtifexSoftware/mupdf - GitHub, accessed July 17, 2025, \", \"page\": 26}, {\"level\": \"H2\", \"text\": \"53.\\u200b innodatalabs/poppler - GitHub, accessed July 17, 2025, \", \"page\": 26}, {\"level\": \"H2\", \"text\": \"54.\\u200b Distrotech/poppler-data: Mirror of \", \"page\": 26}, {\"level\": \"H2\", \"text\": \"2025,  https://github.com/Distrotech/poppler-data \", \"page\": 26}, {\"level\": \"H2\", \"text\": \"61.\\u200b Overview (Apache PDFBox 3.0.2 API) - javadoc.io, accessed July 17, 2025, \", \"page\": 27}, {\"level\": \"H2\", \"text\": \"63.\\u200b Overview (Apache PDFBox 2.0.0 API), accessed July 17, 2025, \", \"page\": 27}, {\"level\": \"H2\", \"text\": \"64.\\u200b Package org.apache.pdfbox.cos, accessed July 17, 2025, \", \"page\": 27}, {\"level\": \"H2\", \"text\": \"66.\\u200b Apache PDFBox Overview - Tutorialspoint, accessed July 17, 2025, \", \"page\": 27}, {\"level\": \"H2\", \"text\": \"67.\\u200b PDFBox - Tutorialspoint, accessed July 17, 2025, \", \"page\": 27}, {\"level\": \"H2\", \"text\": \"74.\\u200b MuPDF.NET documentation, accessed July 17, 2025, \", \"page\": 27}]}\n",
      "\n",
      "Time = 0.9100532531738281\n"
     ]
    }
   ],
   "source": [
    "print_inspect(m4)"
   ]
  },
  {
   "cell_type": "code",
   "execution_count": 27,
   "id": "34826082-e91b-4f41-8d2b-a67243a80621",
   "metadata": {},
   "outputs": [
    {
     "name": "stdout",
     "output_type": "stream",
     "text": [
      "{\"title\": \"**A Strategic Analysis of Offline PDF Libraries for Custom** **Toolchain Development**\", \"outline\": [{\"level\": \"H1\", \"text\": \"**A Strategic Analysis of Offline PDF Libraries for Custom** **Toolchain Development**\", \"page\": 1}, {\"level\": \"H2\", \"text\": \"**Executive Summary**\", \"page\": 1}, {\"level\": \"H2\", \"text\": \"**Introduction: Architecting an Offline PDF Engine**\", \"page\": 3}, {\"level\": \"H2\", \"text\": \"**The Commercial Titans: A Deep Dive into Proprietary SDKs**\", \"page\": 5}, {\"level\": \"H2\", \"text\": \"**The Open-Source Powerhouses: Flexibility and Control**\", \"page\": 10}, {\"level\": \"H2\", \"text\": \"**Head-to-Head: Comparative Analysis and Benchmarks**\", \"page\": 14}, {\"level\": \"H2\", \"text\": \"**Final Rankings and Strategic Recommendations**\", \"page\": 21}]}\n",
      "\n",
      "Time = 24.661393880844116\n"
     ]
    }
   ],
   "source": [
    "print_inspect(m5)"
   ]
  }
 ],
 "metadata": {
  "kernelspec": {
   "display_name": "Python [conda env:base] *",
   "language": "python",
   "name": "conda-base-py"
  },
  "language_info": {
   "codemirror_mode": {
    "name": "ipython",
    "version": 3
   },
   "file_extension": ".py",
   "mimetype": "text/x-python",
   "name": "python",
   "nbconvert_exporter": "python",
   "pygments_lexer": "ipython3",
   "version": "3.13.5"
  }
 },
 "nbformat": 4,
 "nbformat_minor": 5
}
